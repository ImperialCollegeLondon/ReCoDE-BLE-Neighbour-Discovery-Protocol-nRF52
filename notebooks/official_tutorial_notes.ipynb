{
 "cells": [
  {
   "cell_type": "markdown",
   "id": "c11c9fcb",
   "metadata": {},
   "source": [
    "# Notes\n",
    "\n",
    "This is my learning notes of the Nordic official BLE tutorial course\n",
    "\n",
    "course link : https://academy.nordicsemi.com/courses/bluetooth-low-energy-fundamentals/\n"
   ]
  }
 ],
 "metadata": {
  "kernelspec": {
   "display_name": "Python 3",
   "language": "python",
   "name": "python3"
  },
  "language_info": {
   "codemirror_mode": {
    "name": "ipython",
    "version": 3
   },
   "file_extension": ".py",
   "mimetype": "text/x-python",
   "name": "python",
   "nbconvert_exporter": "python",
   "pygments_lexer": "ipython3",
   "version": "3.12.5"
  }
 },
 "nbformat": 4,
 "nbformat_minor": 5
}
