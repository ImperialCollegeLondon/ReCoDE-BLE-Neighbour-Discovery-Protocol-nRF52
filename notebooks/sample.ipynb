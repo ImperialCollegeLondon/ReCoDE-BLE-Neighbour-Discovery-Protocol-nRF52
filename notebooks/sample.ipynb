{
 "cells": [
  {
   "cell_type": "code",
   "execution_count": 1,
   "id": "de32405e",
   "metadata": {},
   "outputs": [],
   "source": [
    "import sys\n",
    "import os\n",
    "sys.path.append(os.path.abspath('../src'))"
   ]
  },
  {
   "cell_type": "code",
   "execution_count": null,
   "id": "b7bb86a8",
   "metadata": {},
   "outputs": [],
   "source": [
    "from main import cowsay\n",
    "\n",
    "cowsay(\"Hi Eileen!\")"
   ]
  },
  {
   "cell_type": "markdown",
   "id": "734cef97",
   "metadata": {},
   "source": [
    "![Eileen Collins](assets/astronaut.png)"
   ]
  },
  {
   "cell_type": "code",
   "execution_count": null,
   "id": "089d619e",
   "metadata": {},
   "outputs": [],
   "source": []
  }
 ],
 "metadata": {
  "kernelspec": {
   "display_name": "Python 3",
   "language": "python",
   "name": "python3"
  },
  "language_info": {
   "codemirror_mode": {
    "name": "ipython",
    "version": 3
   },
   "file_extension": ".py",
   "mimetype": "text/x-python",
   "name": "python",
   "nbconvert_exporter": "python",
   "pygments_lexer": "ipython3",
   "version": "3.12.5"
  }
 },
 "nbformat": 4,
 "nbformat_minor": 5
}
